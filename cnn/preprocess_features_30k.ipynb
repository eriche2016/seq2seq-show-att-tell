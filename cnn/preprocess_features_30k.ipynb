{
 "cells": [
  {
   "cell_type": "code",
   "execution_count": 1,
   "metadata": {
    "collapsed": true
   },
   "outputs": [],
   "source": [
    "import h5py\n",
    "from tqdm import tqdm, trange\n",
    "\n",
    "from chainer import cuda\n",
    "from skimage import img_as_float\n",
    "from skimage.transform import resize\n",
    "import numpy as np\n",
    "import cv2\n",
    "\n",
    "cuda.Device(2).use()\n",
    "class Extractor:    \n",
    "    def __init__(self,model):\n",
    "        self.model = model\n",
    "        model.to_gpu()\n",
    "    def transform(self,f):\n",
    "        mean = np.array([103.939, 116.779, 123.68])\n",
    "        img = cv2.imread(f).astype(np.float32)\n",
    "        img -= mean\n",
    "        img = cv2.resize(img, (224, 224)).transpose((2, 0, 1))\n",
    "        img = img[np.newaxis, :, :, :]\n",
    "        return img\n",
    "    def get_features(self,fs):\n",
    "        x = Variable(np.vstack([self.transform(f) for f in fs]), volatile=True)\n",
    "        x.to_gpu()\n",
    "        \n",
    "        fc = vgg(x,None)\n",
    "        conv = vgg.conv_h\n",
    "        \n",
    "        return conv.data.get(),fc.data.get()\n",
    "    \n",
    "# https://github.com/mitmul/chainer-imagenet-vgg\n",
    "from chainer import serializers, Variable\n",
    "from VGGNet import VGGNet \n",
    "vgg = VGGNet()\n",
    "serializers.load_hdf5('VGG.model', vgg)\n",
    "extrator = Extractor(vgg)"
   ]
  },
  {
   "cell_type": "code",
   "execution_count": 2,
   "metadata": {
    "collapsed": false
   },
   "outputs": [],
   "source": [
    "from tqdm import tqdm, trange\n",
    "def process_features(filenames, outname, batchsize=32):\n",
    "    total = len(filenames)\n",
    "    with h5py.File(outname,'w') as f:\n",
    "        feats_conv = f.create_dataset('feats_conv', (total,196,512))\n",
    "        feats_fc = f.create_dataset('feats_fc', (total,4096))\n",
    "        for i in trange(0,total,batchsize):\n",
    "            xs = filenames[i:i+batchsize]\n",
    "            size = len(xs)\n",
    "            feature_conv, feature_fc = extrator.get_features(xs)\n",
    "            feats_conv[i:i+size] = feature_conv.reshape(size,512,-1).transpose((0,2,1))\n",
    "            feats_fc[i:i+size] = feature_fc "
   ]
  },
  {
   "cell_type": "code",
   "execution_count": 3,
   "metadata": {
    "collapsed": false
   },
   "outputs": [],
   "source": [
    "import json\n",
    "flickr30k = json.load(open('json/dataset_flickr30k.json', 'r'))\n",
    "train = [item for item in flickr30k['images'] if item['split']=='train']\n",
    "val = [item for item in flickr30k['images'] if item['split']=='val']\n",
    "test = [item for item in flickr30k['images'] if item['split']=='test']\n",
    "data_path = '../data/flickr30k/flickr30k-images/'"
   ]
  },
  {
   "cell_type": "code",
   "execution_count": 4,
   "metadata": {
    "collapsed": false,
    "scrolled": false
   },
   "outputs": [
    {
     "name": "stderr",
     "output_type": "stream",
     "text": [
      "100%|██████████| 8/8 [00:16<00:00,  2.00s/it]\n"
     ]
    }
   ],
   "source": [
    "process_features([data_path+train[i]['filename'] for i in range(len(train))], 'train_flickr30k.h5', batchsize=128)\n",
    "process_features([data_path+test[i]['filename'] for i in range(len(test))], 'test_flickr30k.h5', batchsize=128)\n",
    "process_features([data_path+val[i]['filename'] for i in range(len(val))], 'val_flickr30k.h5', batchsize=128)"
   ]
  },
  {
   "cell_type": "code",
   "execution_count": 5,
   "metadata": {
    "collapsed": false
   },
   "outputs": [
    {
     "name": "stdout",
     "output_type": "stream",
     "text": [
      "(29000, 196, 512)\n",
      "(29000, 4096)\n",
      "(1000, 196, 512)\n",
      "(1000, 4096)\n",
      "(1014, 196, 512)\n",
      "(1014, 4096)\n"
     ]
    }
   ],
   "source": [
    "import json, h5py\n",
    "with h5py.File('train_flickr30k.h5') as f:\n",
    "    print f['feats_conv'].shape\n",
    "    print f['feats_fc'].shape\n",
    "    f.attrs['sents'] = unicode(json.dumps(train))\n",
    "with h5py.File('test_flickr30k.h5') as f:\n",
    "    print f['feats_conv'].shape\n",
    "    print f['feats_fc'].shape\n",
    "    f.attrs['sents'] = unicode(json.dumps(test))\n",
    "with h5py.File('val_flickr30k.h5') as f:\n",
    "    print f['feats_conv'].shape\n",
    "    print f['feats_fc'].shape\n",
    "    f.attrs['sents'] = unicode(json.dumps(val))"
   ]
  },
  {
   "cell_type": "code",
   "execution_count": null,
   "metadata": {
    "collapsed": true
   },
   "outputs": [],
   "source": []
  }
 ],
 "metadata": {
  "kernelspec": {
   "display_name": "Python 2",
   "language": "python",
   "name": "python2"
  },
  "language_info": {
   "codemirror_mode": {
    "name": "ipython",
    "version": 2
   },
   "file_extension": ".py",
   "mimetype": "text/x-python",
   "name": "python",
   "nbconvert_exporter": "python",
   "pygments_lexer": "ipython2",
   "version": "2.7.11"
  }
 },
 "nbformat": 4,
 "nbformat_minor": 0
}
