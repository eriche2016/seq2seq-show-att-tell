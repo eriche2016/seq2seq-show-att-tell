{
 "cells": [
  {
   "cell_type": "code",
   "execution_count": 12,
   "metadata": {
    "collapsed": true
   },
   "outputs": [],
   "source": [
    "import h5py\n",
    "from tqdm import tqdm, trange\n",
    "\n",
    "from chainer import cuda\n",
    "from skimage import img_as_float\n",
    "from skimage.transform import resize\n",
    "import numpy as np\n",
    "import cv2\n",
    "\n",
    "cuda.Device(3).use()\n",
    "class Extractor:    \n",
    "    def __init__(self,model):\n",
    "        self.model = model\n",
    "        model.to_gpu()\n",
    "    def transform(self,f):\n",
    "        #mean = np.array([103.939, 116.779, 123.68])\n",
    "        img = cv2.imread(f).astype(np.float32)\n",
    "        #img -= mean\n",
    "        img = cv2.resize(img, (224, 224)).transpose((2, 0, 1))\n",
    "        img = img[np.newaxis, :, :, :]\n",
    "        return img\n",
    "    def get_features(self,fs):\n",
    "        x = Variable(np.vstack([self.transform(f) for f in fs]), volatile=True)\n",
    "        x.to_gpu()\n",
    "        \n",
    "        conv = resnet(x,None)\n",
    "        return conv.data.get()\n",
    "    \n",
    "# https://github.com/yasunorikudo/chainer-ResNet\n",
    "from chainer import serializers, Variable\n",
    "from resnet.ResNet101 import ResNet\n",
    "modelName = 'resnet101'\n",
    "resnet = ResNet()\n",
    "serializers.load_hdf5('resnet/ResNet101.model', resnet)\n",
    "extrator = Extractor(resnet)"
   ]
  },
  {
   "cell_type": "code",
   "execution_count": 13,
   "metadata": {
    "collapsed": false
   },
   "outputs": [],
   "source": [
    "from tqdm import tqdm, trange\n",
    "def process_features(filenames, outname, batchsize=32):\n",
    "    total = len(filenames)\n",
    "    with h5py.File(outname,'w') as f:\n",
    "        feats_conv = f.create_dataset('feats_conv', (total,49,2048))\n",
    "        for i in trange(0,total,batchsize):\n",
    "            xs = filenames[i:i+batchsize]\n",
    "            size = len(xs)\n",
    "            feature_conv = extrator.get_features(xs)\n",
    "            feats_conv[i:i+size] = feature_conv.reshape(size,2048,-1).transpose((0,2,1))"
   ]
  },
  {
   "cell_type": "code",
   "execution_count": 14,
   "metadata": {
    "collapsed": false
   },
   "outputs": [],
   "source": [
    "import json\n",
    "flickr8k = json.load(open('json/dataset_flickr8k.json', 'r'))\n",
    "train = [item for item in flickr8k['images'] if item['split']=='train']\n",
    "val = [item for item in flickr8k['images'] if item['split']=='val']\n",
    "test = [item for item in flickr8k['images'] if item['split']=='test']\n",
    "data_path = '../data/flickr8k/Flicker8k_Dataset/'"
   ]
  },
  {
   "cell_type": "code",
   "execution_count": 15,
   "metadata": {
    "collapsed": false,
    "scrolled": false
   },
   "outputs": [
    {
     "name": "stderr",
     "output_type": "stream",
     "text": [
      "100%|██████████| 47/47 [01:27<00:00,  1.21s/it]\n",
      "100%|██████████| 8/8 [00:12<00:00,  1.52s/it]\n",
      "100%|██████████| 8/8 [00:13<00:00,  1.64s/it]\n"
     ]
    }
   ],
   "source": [
    "process_features([data_path+train[i]['filename'] for i in range(len(train))], 'train_flickr8k_'+modelName+'.h5', batchsize=128)\n",
    "process_features([data_path+test[i]['filename'] for i in range(len(test))], 'test_flickr8k_'+modelName+'.h5', batchsize=128)\n",
    "process_features([data_path+val[i]['filename'] for i in range(len(val))], 'val_flickr8k_'+modelName+'.h5', batchsize=128)"
   ]
  },
  {
   "cell_type": "code",
   "execution_count": 16,
   "metadata": {
    "collapsed": false
   },
   "outputs": [
    {
     "name": "stdout",
     "output_type": "stream",
     "text": [
      "(6000, 49, 2048)\n",
      "(1000, 49, 2048)\n",
      "(1000, 49, 2048)\n"
     ]
    }
   ],
   "source": [
    "import json\n",
    "with h5py.File('train_flickr8k_'+modelName+'.h5') as f:\n",
    "    print f['feats_conv'].shape\n",
    "    f.attrs['sents'] = unicode(json.dumps(train))\n",
    "with h5py.File('test_flickr8k_'+modelName+'.h5') as f:\n",
    "    print f['feats_conv'].shape\n",
    "    f.attrs['sents'] = unicode(json.dumps(test))\n",
    "with h5py.File('val_flickr8k_'+modelName+'.h5') as f:\n",
    "    print f['feats_conv'].shape\n",
    "    f.attrs['sents'] = unicode(json.dumps(val))"
   ]
  },
  {
   "cell_type": "code",
   "execution_count": null,
   "metadata": {
    "collapsed": true
   },
   "outputs": [],
   "source": []
  }
 ],
 "metadata": {
  "kernelspec": {
   "display_name": "Python 2",
   "language": "python",
   "name": "python2"
  },
  "language_info": {
   "codemirror_mode": {
    "name": "ipython",
    "version": 2
   },
   "file_extension": ".py",
   "mimetype": "text/x-python",
   "name": "python",
   "nbconvert_exporter": "python",
   "pygments_lexer": "ipython2",
   "version": "2.7.11"
  }
 },
 "nbformat": 4,
 "nbformat_minor": 0
}
